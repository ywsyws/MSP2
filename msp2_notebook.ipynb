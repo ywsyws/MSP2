{
 "cells": [
  {
   "cell_type": "markdown",
   "metadata": {},
   "source": [
    "# Intégration IA app Flask"
   ]
  },
  {
   "cell_type": "markdown",
   "metadata": {},
   "source": [
    "L'objectif de ce notebook est de proposer un exemple simple d'intégration de micro-services d'intelligence artificielle dans une app web."
   ]
  },
  {
   "cell_type": "markdown",
   "metadata": {},
   "source": [
    "## Echauffement : Envoyer une requête à un site"
   ]
  },
  {
   "cell_type": "markdown",
   "metadata": {},
   "source": [
    "Quelles sont les méthodes de requêtes http que vous connaissez ? "
   ]
  },
  {
   "cell_type": "markdown",
   "metadata": {},
   "source": [
    "My answer: get, push, delete"
   ]
  },
  {
   "cell_type": "markdown",
   "metadata": {},
   "source": [
    "A l'aide de la librairie requests, envoyer une requête au site suivant : https://github.com/timeline.json\n",
    "<br>\n",
    "Affichez la réponse"
   ]
  },
  {
   "cell_type": "code",
   "execution_count": 1,
   "metadata": {},
   "outputs": [],
   "source": [
    "import requests "
   ]
  },
  {
   "cell_type": "code",
   "execution_count": 10,
   "metadata": {},
   "outputs": [
    {
     "name": "stdout",
     "output_type": "stream",
     "text": [
      "{\"message\":\"Hello there, wayfaring stranger. If you’re reading this then you probably didn’t see our blog post a couple of years back announcing that this API would go away: http://git.io/17AROg Fear not, you should be able to get what you need from the shiny new Events API instead.\",\"documentation_url\":\"https://developer.github.com/v3/activity/events/#list-public-events\"}\n"
     ]
    }
   ],
   "source": [
    "r = requests.get('https://github.com/timeline.json')\n",
    "print (r.text)"
   ]
  },
  {
   "cell_type": "markdown",
   "metadata": {},
   "source": [
    "Quel est le format de la réponse envoyée ? "
   ]
  },
  {
   "cell_type": "code",
   "execution_count": 8,
   "metadata": {},
   "outputs": [
    {
     "name": "stdout",
     "output_type": "stream",
     "text": [
      "<class 'str'>\n"
     ]
    }
   ],
   "source": [
    "print(type(r.text))"
   ]
  },
  {
   "cell_type": "code",
   "execution_count": 9,
   "metadata": {},
   "outputs": [
    {
     "name": "stdout",
     "output_type": "stream",
     "text": [
      "Cookies must be enabled to use GitHub.\n"
     ]
    }
   ],
   "source": [
    "r = requests.post('https://github.com/timeline.json')\n",
    "print (r.text)"
   ]
  },
  {
   "cell_type": "markdown",
   "metadata": {},
   "source": [
    "## MSP 2 Choix du sujet"
   ]
  },
  {
   "cell_type": "markdown",
   "metadata": {},
   "source": [
    "Deux applications business vous sont proposées pour la suite. Vous devez en choisir **UNE** et répondre aux questions suivantes."
   ]
  },
  {
   "cell_type": "markdown",
   "metadata": {},
   "source": [
    "#### Application 1 : \n",
    "Vous êtes une entreprise qui possède un blog présentant des articles ainsi qu'un espace de commentaires. Afin de prévenir une éventuelle vague de commentaires haineux, et pour se soumettre à la législation qui oblige une modération sur les blogs, vous décidez de faire appel à une API de modération de contenu pour ne pas avoir à employer de modérateurs. En effet, les éditeurs de services qui ne prennent pas des mesures préventives sérieuses s’exposent à des risques d’amende, voire de fermeture du site."
   ]
  },
  {
   "cell_type": "markdown",
   "metadata": {},
   "source": [
    "[Application 1](https://ibb.co/gWyBRn4)\n",
    "<br>\n",
    "<a href=\"https://ibb.co/gWyBRn4\"><img src=\"https://i.ibb.co/gWyBRn4/Capture-d-e-cran-de-2020-07-20-09-49-52.png\" alt=\"Capture-d-e-cran-de-2020-07-20-09-49-52\" border=\"0\"></a> "
   ]
  },
  {
   "cell_type": "markdown",
   "metadata": {},
   "source": [
    "#### Application 2 : \n",
    "Vous êtes une entreprise qui possède une grande quantité d'images retraçant des opérations de vente passées (par exemple). Vous avez besoin d'obtenir les informations de texte contenues dans ces fichiers. Vous décidez pour cela d'utiliser une api d'OCR (Reconnaissance Optique de Caractères) afin d'extraire le texte des images."
   ]
  },
  {
   "cell_type": "markdown",
   "metadata": {},
   "source": [
    "[Application 2](https://ibb.co/R9JyvZF)\n",
    "<br>\n",
    "<a href=\"https://ibb.co/R9JyvZF\"><img src=\"https://i.ibb.co/R9JyvZF/Capture-d-e-cran-de-2020-07-20-09-50-26.png\" alt=\"Capture-d-e-cran-de-2020-07-20-09-50-26\" border=\"0\"></a>"
   ]
  },
  {
   "cell_type": "markdown",
   "metadata": {},
   "source": [
    "## MSP2 Rédaction"
   ]
  },
  {
   "cell_type": "markdown",
   "metadata": {},
   "source": [
    "### 1) La problématique business"
   ]
  },
  {
   "cell_type": "markdown",
   "metadata": {},
   "source": [
    "Reformuler avec plus de détails le besoin business associée au sujet que vous avez choisie. Vous pouvez bien sûr vous éloigner de ce qu'on propose, mais, pour gagner du temps faites en sorte que vous puissiez réutiliser l'un des deux modèles d'app (que vous ayez pas à en refaire from scratch), et que les API d'IA que vous voulez importer existent bien. "
   ]
  },
  {
   "cell_type": "code",
   "execution_count": null,
   "metadata": {},
   "outputs": [],
   "source": []
  },
  {
   "cell_type": "markdown",
   "metadata": {},
   "source": [
    "### 2) L'usage de l'IA"
   ]
  },
  {
   "cell_type": "markdown",
   "metadata": {},
   "source": [
    "Reformuler avec plus de détails en quoi l'IA peut venir résoudre le problème business"
   ]
  },
  {
   "cell_type": "code",
   "execution_count": null,
   "metadata": {},
   "outputs": [],
   "source": []
  },
  {
   "cell_type": "markdown",
   "metadata": {},
   "source": [
    "### 3) L'état de l'art et des solutions existantes"
   ]
  },
  {
   "cell_type": "markdown",
   "metadata": {},
   "source": [
    "Parmi les différents services que vous connaissez (OVH Cloud, GCP, Microsoft Azure, AWS, Elastic Cloud, ...), établissez un comparatif des API en termes\n",
    "de prix et de services proposés permettant de répondre au problème que vous avez choisi ci dessus. "
   ]
  },
  {
   "cell_type": "code",
   "execution_count": null,
   "metadata": {},
   "outputs": [],
   "source": []
  },
  {
   "cell_type": "markdown",
   "metadata": {},
   "source": [
    "### 4) L'implémentation avec Azure"
   ]
  },
  {
   "cell_type": "markdown",
   "metadata": {},
   "source": [
    "Nous choisissons d'utiliser Azure. Azure propose des cognitives services qui regroupent plusieurs API pré-entrainées utilisant de l'intelligence artificielle. Vous pouvez accéder à la [documentation](https://docs.microsoft.com/fr-fr/azure/cognitive-services/) de ces services.\n",
    "<br> \n",
    "Vous pouvez tester certains de ces services en ligne, après avoir créé une ressource pour obtenir la clé permettant d'utiliser les applications. La [documentation](https://docs.microsoft.com/en-us/azure/cognitive-services/cognitive-services-apis-create-account?tabs=multiservice%2Cwindows) explique comment créer ces ressources, et accéder aux clés."
   ]
  },
  {
   "cell_type": "markdown",
   "metadata": {},
   "source": [
    "Parmi tous les services disponibles, Azure propose les services permettant de répondre aux deux applications, dans les API de cognitive services : \n",
    "- OCR ( [doc](https://docs.microsoft.com/fr-fr/azure/cognitive-services/computer-vision/concept-recognizing-text))\n",
    "- Content Moderator ( [doc](https://docs.microsoft.com/fr-fr/azure/cognitive-services/content-moderator/overview))"
   ]
  },
  {
   "cell_type": "markdown",
   "metadata": {},
   "source": [
    "A l'aide de la librairie requests, envoyez une requête vers l'API que vous avez choisie pour votre business case, en vous assurant que la réponse renvoyée corresponde bien à vos attentes"
   ]
  },
  {
   "cell_type": "code",
   "execution_count": 63,
   "metadata": {},
   "outputs": [],
   "source": [
    "from PIL import Image\n",
    "from io import BytesIO\n",
    "from matplotlib import pyplot as plt\n",
    "from matplotlib.patches import Rectangle"
   ]
  },
  {
   "cell_type": "code",
   "execution_count": 41,
   "metadata": {},
   "outputs": [],
   "source": [
    "%%bash\n",
    "mkdir -p images"
   ]
  },
  {
   "cell_type": "code",
   "execution_count": 67,
   "metadata": {},
   "outputs": [],
   "source": [
    "subscription_key = \"73ce4df610864335bd26c971426cb6f6\"\n",
    "vision_base_url = \"https://uksouth.api.cognitive.microsoft.com/vision/v2.0/\"\n",
    "vision_analyze_url = vision_base_url + \"analyze\"\n",
    "ocr_url = vision_base_url + \"ocr\"\n",
    "image_path = \"images/WMM+LOGO.jpg\""
   ]
  },
  {
   "cell_type": "code",
   "execution_count": 70,
   "metadata": {},
   "outputs": [
    {
     "data": {
      "text/plain": [
       "[{'boundingBox': '89,185,327,87', 'text': 'WORDS'},\n",
       " {'boundingBox': '68,276,352,88', 'text': 'MATTER'},\n",
       " {'boundingBox': '165,374,152,49', 'text': 'Media'}]"
      ]
     },
     "execution_count": 70,
     "metadata": {},
     "output_type": "execute_result"
    }
   ],
   "source": [
    "image_data = open(image_path, \"rb\").read()\n",
    "headers    = {'Ocp-Apim-Subscription-Key': subscription_key, \n",
    "              \"Content-Type\": \"application/octet-stream\" }\n",
    "params     = {'visualFeatures': 'Categories,Description,Color'}\n",
    "response   = requests.post(ocr_url, \n",
    "                           headers=headers, \n",
    "                           params=params, \n",
    "                           data=image_data)\n",
    "\n",
    "response.raise_for_status()\n",
    "\n",
    "analysis      = response.json()\n",
    "line_infos = [region[\"lines\"] for region in analysis[\"regions\"]]\n",
    "word_infos = []\n",
    "for line in line_infos:\n",
    "    for word_metadata in line:\n",
    "        for word_info in word_metadata[\"words\"]:\n",
    "            word_infos.append(word_info)\n",
    "word_infos"
   ]
  },
  {
   "cell_type": "code",
   "execution_count": 71,
   "metadata": {},
   "outputs": [
    {
     "data": {
      "image/png": "[encoded data removed]",
      "text/plain": [
       "<Figure size 360x360 with 1 Axes>"
      ]
     },
     "metadata": {},
     "output_type": "display_data"
    }
   ],
   "source": [
    "plt.figure(figsize=(5,5))\n",
    "\n",
    "image = Image.open(image_path)\n",
    "ax = plt.imshow(image)\n",
    "for word in word_infos:\n",
    "    bbox = [int(num) for num in word[\"boundingBox\"].split(\",\")]\n",
    "    text = word[\"text\"]\n",
    "    origin = (bbox[0], bbox[1])\n",
    "    patch  = Rectangle(origin, bbox[2], bbox[3], fill=False, linewidth=2, color='y')\n",
    "    ax.axes.add_patch(patch)\n",
    "    plt.text(origin[0], origin[1], text, fontsize=20, weight=\"bold\", va=\"top\")\n",
    "_ = plt.axis(\"off\")"
   ]
  },
  {
   "cell_type": "markdown",
   "metadata": {},
   "source": [
    "### 5) Intégration dans l'App"
   ]
  },
  {
   "cell_type": "markdown",
   "metadata": {},
   "source": [
    "Le code du site web pour chacun des business case est disponible dans le fichier zip qui vous à été transmis. \n",
    "<br>\n",
    "Intégrez votre appel d'API dans l'application pour pouvoir répondre au business case que vous avec choisi."
   ]
  },
  {
   "cell_type": "code",
   "execution_count": null,
   "metadata": {},
   "outputs": [],
   "source": []
  },
  {
   "cell_type": "markdown",
   "metadata": {},
   "source": [
    "Montrez l'impact des modifications que vous avez apportées sur l'application. Vous pouvez inclure des screenshots de l'application modifiée."
   ]
  },
  {
   "cell_type": "code",
   "execution_count": null,
   "metadata": {},
   "outputs": [],
   "source": []
  },
  {
   "cell_type": "markdown",
   "metadata": {},
   "source": [
    "Dans votre rédaction de MSP2, pensez à inclure des briques de code pour montrer le travail réalisé (notamment le script qui appelle l'API)."
   ]
  },
  {
   "cell_type": "markdown",
   "metadata": {},
   "source": [
    "## Bonus"
   ]
  },
  {
   "cell_type": "markdown",
   "metadata": {},
   "source": [
    "- Déployer l'app sur Azure en ayant recours à un Docker\n",
    "- Introduire une base de données persistante à l'app"
   ]
  }
 ],
 "metadata": {
  "kernelspec": {
   "display_name": "Python 3",
   "language": "python",
   "name": "python3"
  },
  "language_info": {
   "codemirror_mode": {
    "name": "ipython",
    "version": 3
   },
   "file_extension": ".py",
   "mimetype": "text/x-python",
   "name": "python",
   "nbconvert_exporter": "python",
   "pygments_lexer": "ipython3",
   "version": "3.6.9"
  }
 },
 "nbformat": 4,
 "nbformat_minor": 4
}
